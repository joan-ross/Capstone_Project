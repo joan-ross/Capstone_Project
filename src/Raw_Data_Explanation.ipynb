{
 "cells": [
  {
   "cell_type": "markdown",
   "id": "8a514b2d",
   "metadata": {},
   "source": [
    "# Pavement Data Analysis Project\n",
    "This is a capstone project for the Code:You Data Analysis course. This project aims to analyze the state of sidewalks and pavement in Bloomington, IN circa 2018."
   ]
  },
  {
   "cell_type": "markdown",
   "id": "fae9dd1b",
   "metadata": {},
   "source": [
    "# Project Goal\n",
    "I aim to analyze if there is a correlation between pavement type and how it weathers I also aim to analyze if the sidewalks and streets were being tended to at that time. \n",
    "*this is found to be inconclusive. I will elaborate as to why later*"
   ]
  },
  {
   "cell_type": "markdown",
   "id": "5d995e54",
   "metadata": {},
   "source": [
    "In this notebook, we will look at the raw datasets, how I planned to use them, and why it might not have worked in my favor. "
   ]
  },
  {
   "cell_type": "markdown",
   "id": "95ab91d5",
   "metadata": {},
   "source": [
    "## Sidewalk Conditions\n",
    "Data concerning the sidewalk conditions of Bloomington areas circa 2018."
   ]
  },
  {
   "cell_type": "code",
   "execution_count": 1,
   "id": "ba28d545-bda1-4934-b515-2578279b439a",
   "metadata": {},
   "outputs": [],
   "source": [
    "import pandas as pd"
   ]
  },
  {
   "cell_type": "code",
   "execution_count": 7,
   "id": "b7d70a5d",
   "metadata": {
    "scrolled": true
   },
   "outputs": [
    {
     "name": "stdout",
     "output_type": "stream",
     "text": [
      "      OBJECTID ASSETID CONDITION      TYPE         Roadname SECTIONID  \\\n",
      "0         4296  SW4303      GOOD  CONCRETE        E 10th ST     q4664   \n",
      "1         4297  SW4304      GOOD  CONCRETE        E 10th ST     q4664   \n",
      "2         5368  SW5377      GOOD  CONCRETE        E 10th ST     q4664   \n",
      "3         5369  SW5378      GOOD  CONCRETE        E 10th ST     q4664   \n",
      "4         4298  SW4305      FAIR  CONCRETE        E 10th ST     q4664   \n",
      "...        ...     ...       ...       ...              ...       ...   \n",
      "6351      2844  SW2847      POOR     PAVER       W Wylie ST     p4438   \n",
      "6352      2846  SW2849      POOR     PAVER       W Wylie ST     p4438   \n",
      "6353      2850  SW2853      POOR     PAVER       W Wylie ST     p4438   \n",
      "6354      5925  SW5934      GOOD  CONCRETE  W Yellowwood CT    rcl357   \n",
      "6355      5926  SW5935      FAIR  CONCRETE  W Yellowwood CT    rcl357   \n",
      "\n",
      "      Length (ft)  Length (mi)  \\\n",
      "0          100.90        0.019   \n",
      "1            7.29        0.001   \n",
      "2          141.15        0.027   \n",
      "3          147.79        0.028   \n",
      "4          147.41        0.028   \n",
      "...           ...          ...   \n",
      "6351        13.28        0.003   \n",
      "6352        23.96        0.005   \n",
      "6353        15.63        0.003   \n",
      "6354       156.55        0.030   \n",
      "6355       207.05        0.039   \n",
      "\n",
      "                                              BACKIMAGE  \\\n",
      "0     http://98.103.168.235/Bloomington/120317/3/Bac...   \n",
      "1     http://98.103.168.235/Bloomington/120317/3/Bac...   \n",
      "2     http://98.103.168.235/Bloomington/120517/6/Bac...   \n",
      "3     http://98.103.168.235/Bloomington/120517/6/Bac...   \n",
      "4     http://98.103.168.235/Bloomington/120317/3/Bac...   \n",
      "...                                                 ...   \n",
      "6351  http://98.103.168.235/Bloomington/120817/1/Bac...   \n",
      "6352  http://98.103.168.235/Bloomington/120817/1/Bac...   \n",
      "6353  http://98.103.168.235/Bloomington/120817/1/Bac...   \n",
      "6354  http://98.103.168.235/Bloomington/120717/2/Bac...   \n",
      "6355  http://98.103.168.235/Bloomington/120717/2/Bac...   \n",
      "\n",
      "                                                 VIEWER  \\\n",
      "0     http://98.103.168.235/serve/viewercurrent/view...   \n",
      "1     http://98.103.168.235/serve/viewercurrent/view...   \n",
      "2     http://98.103.168.235/serve/viewercurrent/view...   \n",
      "3     http://98.103.168.235/serve/viewercurrent/view...   \n",
      "4     http://98.103.168.235/serve/viewercurrent/view...   \n",
      "...                                                 ...   \n",
      "6351  http://98.103.168.235/serve/viewercurrent/view...   \n",
      "6352  http://98.103.168.235/serve/viewercurrent/view...   \n",
      "6353  http://98.103.168.235/serve/viewercurrent/view...   \n",
      "6354  http://98.103.168.235/serve/viewercurrent/view...   \n",
      "6355  http://98.103.168.235/serve/viewercurrent/view...   \n",
      "\n",
      "                                              IntVIEWER  \n",
      "0     http://192.168.1.200/serve/viewercurrent/viewe...  \n",
      "1     http://192.168.1.200/serve/viewercurrent/viewe...  \n",
      "2     http://192.168.1.200/serve/viewercurrent/viewe...  \n",
      "3     http://192.168.1.200/serve/viewercurrent/viewe...  \n",
      "4     http://192.168.1.200/serve/viewercurrent/viewe...  \n",
      "...                                                 ...  \n",
      "6351  http://192.168.1.200/serve/viewercurrent/viewe...  \n",
      "6352  http://192.168.1.200/serve/viewercurrent/viewe...  \n",
      "6353  http://192.168.1.200/serve/viewercurrent/viewe...  \n",
      "6354  http://192.168.1.200/serve/viewercurrent/viewe...  \n",
      "6355  http://192.168.1.200/serve/viewercurrent/viewe...  \n",
      "\n",
      "[6356 rows x 11 columns]\n"
     ]
    }
   ],
   "source": [
    "sidewalk_conditions = pd.read_csv(\"../data/raw/2018_Sidewalk_Condition_Report.csv\")\n",
    "print(sidewalk_conditions)"
   ]
  },
  {
   "cell_type": "markdown",
   "id": "27fc931a",
   "metadata": {},
   "source": [
    "*The only relevant columns used in this data are as follows: CONDITION, TYPE, Roadname, SECTIONID*"
   ]
  },
  {
   "cell_type": "markdown",
   "id": "125bb32a",
   "metadata": {},
   "source": [
    "## Pavement Distress Report\n",
    "Data concerning the type of distress seen on the pavement in the area."
   ]
  },
  {
   "cell_type": "code",
   "execution_count": 8,
   "id": "fbd2c216",
   "metadata": {
    "scrolled": true
   },
   "outputs": [
    {
     "name": "stdout",
     "output_type": "stream",
     "text": [
      "        Branch ID                            Name Section ID System ID  \\\n",
      "0      ACCESSDRIV  ACCESS DRIVE TO SHOWPLACE WEST       3018     m4544   \n",
      "1      ACCESSDRIV  ACCESS DRIVE TO SHOWPLACE WEST       3018     m4544   \n",
      "2      ACCESSDRIV  ACCESS DRIVE TO SHOWPLACE WEST       3018     m4544   \n",
      "3      ACCESSDRIV  ACCESS DRIVE TO SHOWPLACE WEST       3018     m4544   \n",
      "4      ACCESSDRIV  ACCESS DRIVE TO SHOWPLACE WEST       3018     m4544   \n",
      "...           ...                             ...        ...       ...   \n",
      "14982    WWYLIEST                      W WYLIE ST        940     p4438   \n",
      "14983  WYELLOWWOO                 W YELLOWWOOD CT       2438    rcl357   \n",
      "14984  WYELLOWWOO                 W YELLOWWOOD CT       2438    rcl357   \n",
      "14985  WYELLOWWOO                 W YELLOWWOOD CT       2438    rcl357   \n",
      "14986  WYELLOWWOO                 W YELLOWWOOD CT       2438    rcl357   \n",
      "\n",
      "                                                From  \\\n",
      "0      ACCESS DRIVE TO SHOWPLACE WEST & WYNNEDALE DR   \n",
      "1      ACCESS DRIVE TO SHOWPLACE WEST & WYNNEDALE DR   \n",
      "2      ACCESS DRIVE TO SHOWPLACE WEST & WYNNEDALE DR   \n",
      "3      ACCESS DRIVE TO SHOWPLACE WEST & WYNNEDALE DR   \n",
      "4      ACCESS DRIVE TO SHOWPLACE WEST & WYNNEDALE DR   \n",
      "...                                              ...   \n",
      "14982                         FAIRVIEW ST & WYLIE ST   \n",
      "14983                         YELLOWWOOD CT DEAD END   \n",
      "14984                         YELLOWWOOD CT DEAD END   \n",
      "14985                         YELLOWWOOD CT DEAD END   \n",
      "14986                         YELLOWWOOD CT DEAD END   \n",
      "\n",
      "                                            To  True Area (Ft2)  Length (Ft)  \\\n",
      "0      ACCESS DRIVE TO SHOWPLACE WEST DEAD END            11025       393.76   \n",
      "1      ACCESS DRIVE TO SHOWPLACE WEST DEAD END            11025       393.76   \n",
      "2      ACCESS DRIVE TO SHOWPLACE WEST DEAD END            11025       393.76   \n",
      "3      ACCESS DRIVE TO SHOWPLACE WEST DEAD END            11025       393.76   \n",
      "4      ACCESS DRIVE TO SHOWPLACE WEST DEAD END            11025       393.76   \n",
      "...                                        ...              ...          ...   \n",
      "14982                        1ST ST & WYLIE ST            24658      1027.43   \n",
      "14983              ROSEWOOD DR & YELLOWWOOD CT             6480       270.00   \n",
      "14984              ROSEWOOD DR & YELLOWWOOD CT             6480       270.00   \n",
      "14985              ROSEWOOD DR & YELLOWWOOD CT             6480       270.00   \n",
      "14986              ROSEWOOD DR & YELLOWWOOD CT             6480       270.00   \n",
      "\n",
      "       PCI  Sample Number              Distress Description  Quantity  \\\n",
      "0       54           3788                    BLOCK CRACKING    2040.0   \n",
      "1       54           3788                        WEATHERING    2543.0   \n",
      "2       54           3788                    BLOCK CRACKING     500.0   \n",
      "3       54           3788                           POTHOLE       2.0   \n",
      "4       54           3788                 PATCH/UTILITY CUT       5.0   \n",
      "...    ...            ...                               ...       ...   \n",
      "14982   63           1168                        WEATHERING    2548.0   \n",
      "14983   41           3040                ALLIGATOR CRACKING     400.0   \n",
      "14984   41           3040                ALLIGATOR CRACKING      70.0   \n",
      "14985   41           3040                        WEATHERING    2352.0   \n",
      "14986   41           3040  LONGITUDINAL/TRANSVERSE CRACKING      60.0   \n",
      "\n",
      "      Quantity Units Severity  \n",
      "0               SqFt        L  \n",
      "1               SqFt        M  \n",
      "2               SqFt        M  \n",
      "3              Count        L  \n",
      "4               SqFt        L  \n",
      "...              ...      ...  \n",
      "14982           SqFt        L  \n",
      "14983           SqFt        M  \n",
      "14984           SqFt        L  \n",
      "14985           SqFt        M  \n",
      "14986             Ft        L  \n",
      "\n",
      "[14987 rows x 14 columns]\n"
     ]
    }
   ],
   "source": [
    "distress_type = pd.read_csv(\"../data/raw/2018_Pavement_Distress_Report.csv\")\n",
    "print(distress_type)"
   ]
  },
  {
   "cell_type": "markdown",
   "id": "6e949afa",
   "metadata": {},
   "source": [
    "*The only relevant columns used in this data are as follows: System ID, Distress Report*"
   ]
  },
  {
   "cell_type": "markdown",
   "id": "5384f2b8",
   "metadata": {},
   "source": [
    "## Sidewalk Repair and Reconstruction Projects\n",
    "Data concerning the location of certain repair projects."
   ]
  },
  {
   "cell_type": "code",
   "execution_count": 9,
   "id": "92bd785c",
   "metadata": {},
   "outputs": [
    {
     "name": "stdout",
     "output_type": "stream",
     "text": [
      "                        DATE   CONTROL #   INVOICE # BILLED TO  \\\n",
      "0     04/04/2018 12:00:00 AM  13715038.0  10531664.0    Street   \n",
      "1     06/25/2018 12:00:00 AM  13038116.0  10571983.0    Street   \n",
      "2     07/12/2018 12:00:00 AM  13038727.0  10581988.0    Street   \n",
      "3     07/16/2018 12:00:00 AM  13038842.0  10583684.0    Street   \n",
      "4     07/17/2018 12:00:00 AM  13715699.0  10584482.0    Street   \n",
      "...                      ...         ...         ...       ...   \n",
      "4202                     NaN         NaN         NaN       NaN   \n",
      "4203                     NaN         NaN         NaN       NaN   \n",
      "4204                     NaN         NaN         NaN       NaN   \n",
      "4205                     NaN         NaN         NaN       NaN   \n",
      "4206                     NaN         NaN         NaN       NaN   \n",
      "\n",
      "                   ADDRESS STREET SIDE  \\\n",
      "0            4105 Saratoga        Same   \n",
      "1     330 S Eastside Drive   NW Corner   \n",
      "2        312 W 14th Street   NE Corner   \n",
      "3     920 N Madison Street   SE Corner   \n",
      "4     925 N Madison Street   SW Corner   \n",
      "...                    ...         ...   \n",
      "4202                   NaN         NaN   \n",
      "4203                   NaN         NaN   \n",
      "4204                   NaN         NaN   \n",
      "4205                   NaN         NaN   \n",
      "4206                   NaN         NaN   \n",
      "\n",
      "     SIDEWALK   CURB     MONO       H/C RAMP GUTTER   DRIVEWAY    STREET CUT  \\\n",
      "0                                                  Curb                        \n",
      "1                                                  Curb                        \n",
      "2                                                  Curb                        \n",
      "3                                                  Curb                        \n",
      "4                                                  Curb                        \n",
      "...                                                 ...                        \n",
      "4202                                                NaN                        \n",
      "4203                                                NaN                        \n",
      "4204                                                NaN                        \n",
      "4205                                                NaN                        \n",
      "4206                                                NaN                        \n",
      "\n",
      "      LENGTH IN FEET  WIDTH  # of Ramps  ...  Unnamed Column 2  \\\n",
      "0               20.0    2.0         NaN  ...               NaN   \n",
      "1               15.0    6.0         NaN  ...               NaN   \n",
      "2               20.0    6.0         NaN  ...               NaN   \n",
      "3                8.0    6.0         NaN  ...               NaN   \n",
      "4               10.0    6.0         NaN  ...               NaN   \n",
      "...              ...    ...         ...  ...               ...   \n",
      "4202             NaN    NaN         NaN  ...               NaN   \n",
      "4203             NaN    NaN         NaN  ...               NaN   \n",
      "4204             NaN    NaN         NaN  ...               NaN   \n",
      "4205             NaN    NaN         NaN  ...               NaN   \n",
      "4206             NaN    NaN         NaN  ...               NaN   \n",
      "\n",
      "      Unnamed Column 3  Unnamed Column 4  Unnamed Column 5  Unnamed Column 6  \\\n",
      "0                  NaN               NaN               NaN               NaN   \n",
      "1                  NaN               NaN               NaN               NaN   \n",
      "2                  NaN               NaN               NaN               NaN   \n",
      "3                  NaN               NaN               NaN               NaN   \n",
      "4                  NaN               NaN               NaN               NaN   \n",
      "...                ...               ...               ...               ...   \n",
      "4202               NaN               NaN               NaN               NaN   \n",
      "4203               NaN               NaN               NaN               NaN   \n",
      "4204               NaN               NaN               NaN               NaN   \n",
      "4205               NaN               NaN               NaN               NaN   \n",
      "4206               NaN               NaN               NaN               NaN   \n",
      "\n",
      "      Unnamed Column 7  Unnamed Column 8  Unnamed Column 9  DATE INSPECTED  \\\n",
      "0                  NaN               NaN               NaN             NaN   \n",
      "1                  NaN               NaN               NaN             NaN   \n",
      "2                  NaN               NaN               NaN             NaN   \n",
      "3                  NaN               NaN               NaN             NaN   \n",
      "4                  NaN               NaN               NaN             NaN   \n",
      "...                ...               ...               ...             ...   \n",
      "4202               NaN               0.0               NaN          2015.0   \n",
      "4203               NaN               0.0               NaN          2015.0   \n",
      "4204               NaN               0.0               NaN          2015.0   \n",
      "4205               NaN               0.0               NaN          2015.0   \n",
      "4206               NaN               0.0               NaN          2015.0   \n",
      "\n",
      "      Unnamed Column 10  \n",
      "0                   NaN  \n",
      "1                   NaN  \n",
      "2                   NaN  \n",
      "3                   NaN  \n",
      "4                   NaN  \n",
      "...                 ...  \n",
      "4202                NaN  \n",
      "4203                NaN  \n",
      "4204                NaN  \n",
      "4205                NaN  \n",
      "4206                NaN  \n",
      "\n",
      "[4207 rows x 25 columns]\n"
     ]
    }
   ],
   "source": [
    "repair_projects = pd.read_csv(\"../data/raw/2018_Sidewalk_Repair_and_Reconstruction_Projects.csv\")\n",
    "print(repair_projects)"
   ]
  },
  {
   "cell_type": "markdown",
   "id": "2f73914a",
   "metadata": {},
   "source": [
    "There ended up being no relevant data in this dataset. I leave it in to not only accurately show and explain my progress, but also as a critique of how their data should have been collected.\n",
    "\n",
    "Let it be noted that the previous two datasets both contained some form of identification column: SECTIONID and System ID\n",
    "I found these two to contain the same data by running the following code:"
   ]
  },
  {
   "cell_type": "code",
   "execution_count": 10,
   "id": "2bc86374",
   "metadata": {},
   "outputs": [
    {
     "name": "stdout",
     "output_type": "stream",
     "text": [
      "    OBJECTID ASSETID CONDITION      TYPE   Roadname SECTIONID  Length (ft)  \\\n",
      "64        95    SW95      GOOD  CONCRETE  E 11th ST     q4749       131.06   \n",
      "65        97    SW97      GOOD  CONCRETE  E 11th ST     q4749       139.95   \n",
      "66        94    SW94      FAIR  CONCRETE  E 11th ST     q4749       127.94   \n",
      "67        96    SW96      FAIR  CONCRETE  E 11th ST     q4749       144.05   \n",
      "\n",
      "    Length (mi)                                          BACKIMAGE  \\\n",
      "64        0.025  http://98.103.168.235/Bloomington/121217/3/Bac...   \n",
      "65        0.027  http://98.103.168.235/Bloomington/120317/3/Bac...   \n",
      "66        0.024  http://98.103.168.235/Bloomington/120717/4/Bac...   \n",
      "67        0.027  http://98.103.168.235/Bloomington/120317/3/Bac...   \n",
      "\n",
      "                                               VIEWER  \\\n",
      "64  http://98.103.168.235/serve/viewercurrent/view...   \n",
      "65  http://98.103.168.235/serve/viewercurrent/view...   \n",
      "66  http://98.103.168.235/serve/viewercurrent/view...   \n",
      "67  http://98.103.168.235/serve/viewercurrent/view...   \n",
      "\n",
      "                                            IntVIEWER  \n",
      "64  http://192.168.1.200/serve/viewercurrent/viewe...  \n",
      "65  http://192.168.1.200/serve/viewercurrent/viewe...  \n",
      "66  http://192.168.1.200/serve/viewercurrent/viewe...  \n",
      "67  http://192.168.1.200/serve/viewercurrent/viewe...  \n"
     ]
    }
   ],
   "source": [
    "sidewalk_conditions = pd.read_csv(\"../data/raw/2018_Sidewalk_Condition_Report.csv\")\n",
    "sidewalk_id = sidewalk_conditions[sidewalk_conditions['SECTIONID'] == 'q4749']\n",
    "print(sidewalk_id)"
   ]
  },
  {
   "cell_type": "code",
   "execution_count": null,
   "id": "52859012",
   "metadata": {},
   "outputs": [],
   "source": [
    "distress_type = pd.read_csv(\"../data/raw/2018_Pavement_Distress_Report.csv\")\n",
    "distress_id = distress_type[distress_type['System ID'] == 'q4749']\n",
    "print(distress_id)"
   ]
  },
  {
   "cell_type": "markdown",
   "id": "c40452df",
   "metadata": {},
   "source": [
    "Both sets of code filter the datasets to have their respective columns return results with the identification of 'q4749'. \n",
    "Upon doing so, we see that the Roadname and Name columns return the same street name/location.\n",
    "This showcases that SECTIONID and System ID are the same type of identification."
   ]
  },
  {
   "cell_type": "markdown",
   "id": "ab954a8d",
   "metadata": {},
   "source": [
    "The repair_projects dataset has no column/form of this type of identification as it does not have a system or section id. This makes it hard to accurately line up this dataset with the previous two. As such, I am unable to concretely confirm whether or not these invoces line up with the damaged pavement sites from the previous two datasets. "
   ]
  }
 ],
 "metadata": {
  "kernelspec": {
   "display_name": "Python 3 (ipykernel)",
   "language": "python",
   "name": "python3"
  },
  "language_info": {
   "codemirror_mode": {
    "name": "ipython",
    "version": 3
   },
   "file_extension": ".py",
   "mimetype": "text/x-python",
   "name": "python",
   "nbconvert_exporter": "python",
   "pygments_lexer": "ipython3",
   "version": "3.12.5"
  }
 },
 "nbformat": 4,
 "nbformat_minor": 5
}
